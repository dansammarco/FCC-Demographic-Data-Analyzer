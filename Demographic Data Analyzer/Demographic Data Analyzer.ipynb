{
 "cells": [
  {
   "cell_type": "code",
   "execution_count": 1,
   "id": "130e5cf3-3f04-457b-b53b-7b489bf8bfb4",
   "metadata": {},
   "outputs": [],
   "source": [
    "import pandas as pd\n",
    "import numpy as np"
   ]
  },
  {
   "cell_type": "raw",
   "id": "484223ad-bcb4-405c-81c5-50c92b0cf786",
   "metadata": {},
   "source": [
    "You must use Pandas to answer the following questions:\n",
    "\n",
    " - How many people of each race are represented in this dataset? This should be a Pandas series with race names as the index labels. (race column)\n",
    " - What is the average age of men?\n",
    " - What is the percentage of people who have a Bachelor's degree?\n",
    " - What percentage of people with advanced education (Bachelors, Masters, or Doctorate) make more than 50K?\n",
    " - What percentage of people without advanced education make more than 50K?\n",
    " - What is the minimum number of hours a person works per week?\n",
    " - What percentage of the people who work the minimum number of hours per week have a salary of more than 50K?\n",
    " - What country has the highest percentage of people that earn >50K and what is that percentage?\n",
    " - Identify the most popular occupation for those who earn >50K in India."
   ]
  },
  {
   "cell_type": "code",
   "execution_count": 152,
   "id": "ec55fead-6642-4299-8b79-64a1311f0baa",
   "metadata": {},
   "outputs": [
    {
     "data": {
      "text/html": [
       "<div>\n",
       "<style scoped>\n",
       "    .dataframe tbody tr th:only-of-type {\n",
       "        vertical-align: middle;\n",
       "    }\n",
       "\n",
       "    .dataframe tbody tr th {\n",
       "        vertical-align: top;\n",
       "    }\n",
       "\n",
       "    .dataframe thead th {\n",
       "        text-align: right;\n",
       "    }\n",
       "</style>\n",
       "<table border=\"1\" class=\"dataframe\">\n",
       "  <thead>\n",
       "    <tr style=\"text-align: right;\">\n",
       "      <th></th>\n",
       "      <th>age</th>\n",
       "      <th>workclass</th>\n",
       "      <th>fnlwgt</th>\n",
       "      <th>education</th>\n",
       "      <th>education-num</th>\n",
       "      <th>marital-status</th>\n",
       "      <th>occupation</th>\n",
       "      <th>relationship</th>\n",
       "      <th>race</th>\n",
       "      <th>sex</th>\n",
       "      <th>capital-gain</th>\n",
       "      <th>capital-loss</th>\n",
       "      <th>hours-per-week</th>\n",
       "      <th>native-country</th>\n",
       "      <th>salary</th>\n",
       "    </tr>\n",
       "  </thead>\n",
       "  <tbody>\n",
       "    <tr>\n",
       "      <th>0</th>\n",
       "      <td>39</td>\n",
       "      <td>State-gov</td>\n",
       "      <td>77516</td>\n",
       "      <td>Bachelors</td>\n",
       "      <td>13</td>\n",
       "      <td>Never-married</td>\n",
       "      <td>Adm-clerical</td>\n",
       "      <td>Not-in-family</td>\n",
       "      <td>White</td>\n",
       "      <td>Male</td>\n",
       "      <td>2174</td>\n",
       "      <td>0</td>\n",
       "      <td>40</td>\n",
       "      <td>United-States</td>\n",
       "      <td>&lt;=50K</td>\n",
       "    </tr>\n",
       "    <tr>\n",
       "      <th>1</th>\n",
       "      <td>50</td>\n",
       "      <td>Self-emp-not-inc</td>\n",
       "      <td>83311</td>\n",
       "      <td>Bachelors</td>\n",
       "      <td>13</td>\n",
       "      <td>Married-civ-spouse</td>\n",
       "      <td>Exec-managerial</td>\n",
       "      <td>Husband</td>\n",
       "      <td>White</td>\n",
       "      <td>Male</td>\n",
       "      <td>0</td>\n",
       "      <td>0</td>\n",
       "      <td>13</td>\n",
       "      <td>United-States</td>\n",
       "      <td>&lt;=50K</td>\n",
       "    </tr>\n",
       "    <tr>\n",
       "      <th>2</th>\n",
       "      <td>38</td>\n",
       "      <td>Private</td>\n",
       "      <td>215646</td>\n",
       "      <td>HS-grad</td>\n",
       "      <td>9</td>\n",
       "      <td>Divorced</td>\n",
       "      <td>Handlers-cleaners</td>\n",
       "      <td>Not-in-family</td>\n",
       "      <td>White</td>\n",
       "      <td>Male</td>\n",
       "      <td>0</td>\n",
       "      <td>0</td>\n",
       "      <td>40</td>\n",
       "      <td>United-States</td>\n",
       "      <td>&lt;=50K</td>\n",
       "    </tr>\n",
       "    <tr>\n",
       "      <th>3</th>\n",
       "      <td>53</td>\n",
       "      <td>Private</td>\n",
       "      <td>234721</td>\n",
       "      <td>11th</td>\n",
       "      <td>7</td>\n",
       "      <td>Married-civ-spouse</td>\n",
       "      <td>Handlers-cleaners</td>\n",
       "      <td>Husband</td>\n",
       "      <td>Black</td>\n",
       "      <td>Male</td>\n",
       "      <td>0</td>\n",
       "      <td>0</td>\n",
       "      <td>40</td>\n",
       "      <td>United-States</td>\n",
       "      <td>&lt;=50K</td>\n",
       "    </tr>\n",
       "    <tr>\n",
       "      <th>4</th>\n",
       "      <td>28</td>\n",
       "      <td>Private</td>\n",
       "      <td>338409</td>\n",
       "      <td>Bachelors</td>\n",
       "      <td>13</td>\n",
       "      <td>Married-civ-spouse</td>\n",
       "      <td>Prof-specialty</td>\n",
       "      <td>Wife</td>\n",
       "      <td>Black</td>\n",
       "      <td>Female</td>\n",
       "      <td>0</td>\n",
       "      <td>0</td>\n",
       "      <td>40</td>\n",
       "      <td>Cuba</td>\n",
       "      <td>&lt;=50K</td>\n",
       "    </tr>\n",
       "  </tbody>\n",
       "</table>\n",
       "</div>"
      ],
      "text/plain": [
       "   age         workclass  fnlwgt  education  education-num  \\\n",
       "0   39         State-gov   77516  Bachelors             13   \n",
       "1   50  Self-emp-not-inc   83311  Bachelors             13   \n",
       "2   38           Private  215646    HS-grad              9   \n",
       "3   53           Private  234721       11th              7   \n",
       "4   28           Private  338409  Bachelors             13   \n",
       "\n",
       "       marital-status         occupation   relationship   race     sex  \\\n",
       "0       Never-married       Adm-clerical  Not-in-family  White    Male   \n",
       "1  Married-civ-spouse    Exec-managerial        Husband  White    Male   \n",
       "2            Divorced  Handlers-cleaners  Not-in-family  White    Male   \n",
       "3  Married-civ-spouse  Handlers-cleaners        Husband  Black    Male   \n",
       "4  Married-civ-spouse     Prof-specialty           Wife  Black  Female   \n",
       "\n",
       "   capital-gain  capital-loss  hours-per-week native-country salary  \n",
       "0          2174             0              40  United-States  <=50K  \n",
       "1             0             0              13  United-States  <=50K  \n",
       "2             0             0              40  United-States  <=50K  \n",
       "3             0             0              40  United-States  <=50K  \n",
       "4             0             0              40           Cuba  <=50K  "
      ]
     },
     "execution_count": 152,
     "metadata": {},
     "output_type": "execute_result"
    }
   ],
   "source": [
    "df = pd.read_csv('adult.data.csv')\n",
    "df.head()"
   ]
  },
  {
   "cell_type": "markdown",
   "id": "0f272b56-f737-443d-abd7-45b88148167d",
   "metadata": {
    "jp-MarkdownHeadingCollapsed": true,
    "tags": []
   },
   "source": [
    "#### 1. How many people of each race are represented in this dataset? This should be a Pandas series with race names as the index labels. (race column)"
   ]
  },
  {
   "cell_type": "code",
   "execution_count": 29,
   "id": "9e75dd7f-ad0d-426c-9359-91625da64666",
   "metadata": {},
   "outputs": [
    {
     "name": "stdout",
     "output_type": "stream",
     "text": [
      "['White' 'Black' 'Asian-Pac-Islander' 'Amer-Indian-Eskimo' 'Other']\n",
      "-----------------------------------------------------------------\n",
      "White: 27816\n",
      "Black: 3124\n",
      "API: 1039\n",
      "AIE: 311\n",
      "Other: 271\n",
      "-----------------------------------------------------------------\n",
      "White: 27816\n",
      "Black: 3124\n",
      "Asian-Pac-Islander: 1039\n",
      "Amer-Indian-Eskimo: 311\n",
      "Other: 271\n",
      "-----------------------------------------------------------------\n"
     ]
    },
    {
     "data": {
      "text/html": [
       "<div>\n",
       "<style scoped>\n",
       "    .dataframe tbody tr th:only-of-type {\n",
       "        vertical-align: middle;\n",
       "    }\n",
       "\n",
       "    .dataframe tbody tr th {\n",
       "        vertical-align: top;\n",
       "    }\n",
       "\n",
       "    .dataframe thead th {\n",
       "        text-align: right;\n",
       "    }\n",
       "</style>\n",
       "<table border=\"1\" class=\"dataframe\">\n",
       "  <thead>\n",
       "    <tr style=\"text-align: right;\">\n",
       "      <th></th>\n",
       "      <th>race</th>\n",
       "    </tr>\n",
       "  </thead>\n",
       "  <tbody>\n",
       "    <tr>\n",
       "      <th>White</th>\n",
       "      <td>27816</td>\n",
       "    </tr>\n",
       "    <tr>\n",
       "      <th>Black</th>\n",
       "      <td>3124</td>\n",
       "    </tr>\n",
       "    <tr>\n",
       "      <th>Asian-Pac-Islander</th>\n",
       "      <td>1039</td>\n",
       "    </tr>\n",
       "    <tr>\n",
       "      <th>Amer-Indian-Eskimo</th>\n",
       "      <td>311</td>\n",
       "    </tr>\n",
       "    <tr>\n",
       "      <th>Other</th>\n",
       "      <td>271</td>\n",
       "    </tr>\n",
       "  </tbody>\n",
       "</table>\n",
       "</div>"
      ],
      "text/plain": [
       "                     race\n",
       "White               27816\n",
       "Black                3124\n",
       "Asian-Pac-Islander   1039\n",
       "Amer-Indian-Eskimo    311\n",
       "Other                 271"
      ]
     },
     "execution_count": 29,
     "metadata": {},
     "output_type": "execute_result"
    }
   ],
   "source": [
    "race = pd.Series(df['race']) #creates the series\n",
    "print(race.unique())\n",
    "print('-----------------------------------------------------------------')\n",
    "\n",
    "w_count = 0\n",
    "b_count = 0\n",
    "a_count = 0\n",
    "ie_count = 0\n",
    "o_count = 0\n",
    "\n",
    "#iterating through the series - LEAST EFFICIENT WAY TO SET THIS UP - Note this does not turn it into a Pandas series\n",
    "for i in race:\n",
    "    if i == 'White':\n",
    "        w_count += 1\n",
    "    if i == 'Black':\n",
    "        b_count += 1\n",
    "    if i == 'Asian-Pac-Islander':\n",
    "        a_count += 1\n",
    "    if i == 'Amer-Indian-Eskimo':\n",
    "        ie_count += 1\n",
    "    if i == 'Other':\n",
    "        o_count += 1\n",
    "\n",
    "print(f'White: {w_count}\\nBlack: {b_count}\\nAPI: {a_count}\\nAIE: {ie_count}\\nOther: {o_count}')\n",
    "print('-----------------------------------------------------------------')\n",
    "\n",
    "#Using booleans/True-False mask == BETTER WAY - Note this does not turn it into a Pandas series\n",
    "for i in race.unique():    \n",
    "    print(f'{i}: {race[race == i].count()}')\n",
    "    \n",
    "print('-----------------------------------------------------------------')\n",
    "\n",
    "#EVEN EASIER USING BUILT-IN FUNCTION - CREATES THE NEEDED PANDAS SERIES\n",
    "race_series = pd.Series(race.value_counts())\n",
    "race_series.to_frame()\n",
    "#OR\n",
    "race_series = pd.Series(df['race'].value_counts()) #pulls from the entire database, not just the pre-made race-only series\n",
    "race_series.to_frame()"
   ]
  },
  {
   "cell_type": "markdown",
   "id": "a01e8751-d986-4da7-9725-c30cd4e3fa1d",
   "metadata": {
    "jp-MarkdownHeadingCollapsed": true,
    "tags": []
   },
   "source": [
    "#### 2. What is the average age of men?"
   ]
  },
  {
   "cell_type": "code",
   "execution_count": 42,
   "id": "79156e14-3d59-491a-93e6-10d15c78678c",
   "metadata": {},
   "outputs": [
    {
     "name": "stdout",
     "output_type": "stream",
     "text": [
      "Average age of men in the dataset: 39.43354749885268\n"
     ]
    },
    {
     "data": {
      "text/plain": [
       "Male    21790\n",
       "Name: sex, dtype: int64"
      ]
     },
     "execution_count": 42,
     "metadata": {},
     "output_type": "execute_result"
    }
   ],
   "source": [
    "male_only_df = df[df['sex'] == 'Male'] #Copies the full data frame into one that only includes values where 'Male' is true\n",
    "male_ages = pd.Series(male_only_df['age']) #Creates a series of the ages in the dataset, now that only men are in it\n",
    "print(f'Average age of men in the dataset: {male_ages.mean()}')\n",
    "\n",
    "male_only_df['sex'].value_counts() #CHECKS TO MAKE SURE THAT THE MALE ONLY DATAFRAME TRULY IS MALE-ONLY, 'Male' is returned as the only index == GOOD"
   ]
  },
  {
   "cell_type": "markdown",
   "id": "93cf3d4b-6d96-4883-80b7-7fd6a8b87620",
   "metadata": {
    "jp-MarkdownHeadingCollapsed": true,
    "tags": []
   },
   "source": [
    "#### 3. What is the percentage of people who have a Bachelor's degree?"
   ]
  },
  {
   "cell_type": "code",
   "execution_count": 51,
   "id": "d665e400-59d3-4282-9c61-7fb87bad8ae6",
   "metadata": {},
   "outputs": [
    {
     "name": "stdout",
     "output_type": "stream",
     "text": [
      "Percentage of people with Bachelor's degrees: 16.45%\n"
     ]
    },
    {
     "data": {
      "text/plain": [
       "HS-grad         10501\n",
       "Some-college     7291\n",
       "Bachelors        5355\n",
       "Masters          1723\n",
       "Assoc-voc        1382\n",
       "11th             1175\n",
       "Assoc-acdm       1067\n",
       "10th              933\n",
       "7th-8th           646\n",
       "Prof-school       576\n",
       "9th               514\n",
       "12th              433\n",
       "Doctorate         413\n",
       "5th-6th           333\n",
       "1st-4th           168\n",
       "Preschool          51\n",
       "Name: education, dtype: int64"
      ]
     },
     "execution_count": 51,
     "metadata": {},
     "output_type": "execute_result"
    }
   ],
   "source": [
    "education = pd.Series(df['education'].value_counts()) #makes a count of people with all the different degrees in the dataset\n",
    "\n",
    "bach_degs = round(education['Bachelors']/education.sum() * 100, 2)\n",
    "print(f\"Percentage of people with Bachelor's degrees: {bach_degs}%\")\n",
    "\n",
    "education"
   ]
  },
  {
   "cell_type": "markdown",
   "id": "b03f6269-541e-4489-b0b6-d95261db1fb2",
   "metadata": {
    "jp-MarkdownHeadingCollapsed": true,
    "tags": []
   },
   "source": [
    "#### 4. What percentage of people with advanced education (Bachelors, Masters, or Doctorate) make more than 50K?"
   ]
  },
  {
   "cell_type": "code",
   "execution_count": 113,
   "id": "607be336-3335-4c21-af79-3cc010c77546",
   "metadata": {},
   "outputs": [
    {
     "name": "stdout",
     "output_type": "stream",
     "text": [
      "Percentage of people with advanced education making >$50K: 46.54%\n"
     ]
    }
   ],
   "source": [
    "adv_ed_df = df[((df['education'] == 'Bachelors') | (df['education'] == 'Masters') | (df['education'] == 'Doctorate'))] #creates dataframe of people with advanced degrees\n",
    "adv_over_50K = adv_ed_df[adv_ed_df['salary'] == '>50K'] #creates dataframe of people with advanced degrees and salaries over 50K\n",
    "\n",
    "advanced_education_over_50K_percent = round( (len(adv_over_50K.index))/(len(adv_ed_df.index)) * 100, 2)\n",
    "print(f\"Percentage of people with advanced education making >$50K: {advanced_education_over_50K_percent}%\")"
   ]
  },
  {
   "cell_type": "markdown",
   "id": "28a97430-dc0c-4ebf-8456-6af027767092",
   "metadata": {
    "jp-MarkdownHeadingCollapsed": true,
    "tags": []
   },
   "source": [
    "#### 5. What percentage of people without advanced education make more than 50K?"
   ]
  },
  {
   "cell_type": "code",
   "execution_count": 114,
   "id": "b39fd198-89ea-4e9a-aa54-a405312ee650",
   "metadata": {},
   "outputs": [
    {
     "name": "stdout",
     "output_type": "stream",
     "text": [
      "Percentage of people without advanced education making >$50K: 17.37%\n"
     ]
    }
   ],
   "source": [
    "non_adv_ed_df = df[((df['education'] != 'Bachelors') & (df['education'] != 'Masters') & (df['education'] != 'Doctorate'))] #dataframe of people without advanced degrees\n",
    "non_adv_over_50K = df[((df['education'] != 'Bachelors') & (df['education'] != 'Masters') & (df['education'] != 'Doctorate')) & (df['salary'] == '>50K')] #df of people also making over 50K\n",
    "\n",
    "non_advanced_education_over_50K_percent = round( (len(non_adv_over_50K.index))/(len(non_adv_ed_df.index)) * 100, 2)\n",
    "\n",
    "print(f\"Percentage of people without advanced education making >$50K: {non_advanced_education_over_50K_percent}%\")"
   ]
  },
  {
   "cell_type": "markdown",
   "id": "cff2934a-04a4-4f48-8037-728b0154f14a",
   "metadata": {
    "jp-MarkdownHeadingCollapsed": true,
    "tags": []
   },
   "source": [
    "#### 6. What is the minimum number of hours a person works per week?"
   ]
  },
  {
   "cell_type": "code",
   "execution_count": 123,
   "id": "2c7330c3-3aae-4600-949d-381b57a7a091",
   "metadata": {},
   "outputs": [
    {
     "name": "stdout",
     "output_type": "stream",
     "text": [
      "Minimum hours worked by a person per week: 1 hour(s).\n"
     ]
    }
   ],
   "source": [
    "hrs_worked = df['hours-per-week'] #Creates a series of hours worked per week\n",
    "min_hrs_worked = hrs_worked.min() #Pulls the mean from the series\n",
    "\n",
    "min_hrs_worked = df['hours-per-week'].min() #This can be done in one line of code this way\n",
    "\n",
    "print(f'Minimum hours worked by a person per week: {min_hrs_worked} hour(s).')"
   ]
  },
  {
   "cell_type": "markdown",
   "id": "c71465e2-c36f-442a-81a3-05d5fb297ee4",
   "metadata": {
    "jp-MarkdownHeadingCollapsed": true,
    "tags": []
   },
   "source": [
    "#### 7. What percentage of the people who work the minimum number of hours per week have a salary of more than 50K?"
   ]
  },
  {
   "cell_type": "code",
   "execution_count": 128,
   "id": "883a3d6e-3a80-46c2-b6e1-35c6bdbe5f35",
   "metadata": {},
   "outputs": [
    {
     "name": "stdout",
     "output_type": "stream",
     "text": [
      "Percentage of people working the minimum hours per week and having a salary >50K: 10.0%\n"
     ]
    }
   ],
   "source": [
    "percent_min_hours_and_over_50K = round( ((len((df[(df['hours-per-week'] == 1) & (df['salary'] == '>50K')].index))) / (len((df[df['hours-per-week'] == 1].index)))) * 100, 2)\n",
    "#This stuff was all done on one line. See above to see how to do it in a more piece-by-piece fashion\n",
    "\n",
    "print(f'Percentage of people working the minimum hours per week and having a salary >50K: {percent_min_hours_and_over_50K}%')"
   ]
  },
  {
   "cell_type": "markdown",
   "id": "0baad214-5778-4c14-b74d-f63f2f6bf86e",
   "metadata": {
    "jp-MarkdownHeadingCollapsed": true,
    "tags": []
   },
   "source": [
    "#### 8. What country has the highest percentage of people that earn >50K and what is that percentage?"
   ]
  },
  {
   "cell_type": "code",
   "execution_count": 145,
   "id": "1d7334f4-ee7c-4a8a-a69e-1f01257747a0",
   "metadata": {},
   "outputs": [
    {
     "data": {
      "text/plain": [
       "Iran    0.418605\n",
       "Name: native-country, dtype: float64"
      ]
     },
     "execution_count": 145,
     "metadata": {},
     "output_type": "execute_result"
    }
   ],
   "source": [
    "over_50K = df[df['salary'] == '>50K'] #creates dataframe of people making more than 50K\n",
    "countries_over_50K = over_50K['native-country'] #creates series of those people based on their country of origin\n",
    "countries_over_50K_series = countries.value_counts() #lists the unique values in the series and their counts\n",
    "#OR \n",
    "countries_over_50K_series = (df[df['salary'] == '>50K'])['native-country'].value_counts() #This is it all in one line\n",
    "\n",
    "countries_total_series = df['native-country'].value_counts()\n",
    "#print(countries_over_50K_series)\n",
    "#print(countries_total_series)\n",
    "\n",
    "percentages_over_50K = countries_over_50K_series / countries_total_series\n",
    "percentages_over_50K[percentages_over_50K == percentages_over_50K.max()]"
   ]
  },
  {
   "cell_type": "markdown",
   "id": "37b51197-5ecc-4064-94f9-1f032204901b",
   "metadata": {
    "jp-MarkdownHeadingCollapsed": true,
    "tags": []
   },
   "source": [
    "#### 9. Identify the most popular occupation for those who earn >50K in India."
   ]
  },
  {
   "cell_type": "code",
   "execution_count": 151,
   "id": "3cb68420-ada1-4c36-bc81-0bd393dbc491",
   "metadata": {},
   "outputs": [
    {
     "name": "stdout",
     "output_type": "stream",
     "text": [
      "Prof-specialty    25\n",
      "Name: occupation, dtype: int64\n"
     ]
    },
    {
     "data": {
      "text/plain": [
       "Prof-specialty      25\n",
       "Exec-managerial      8\n",
       "Other-service        2\n",
       "Tech-support         2\n",
       "Transport-moving     1\n",
       "Sales                1\n",
       "Adm-clerical         1\n",
       "Name: occupation, dtype: int64"
      ]
     },
     "execution_count": 151,
     "metadata": {},
     "output_type": "execute_result"
    }
   ],
   "source": [
    "occupation_series = (df[(df['salary'] == '>50K') & (df['native-country'] == 'India')])['occupation'].value_counts()\n",
    "\n",
    "print(occupation_series[0:1]) #This is the most popular one.\n",
    "\n",
    "occupation_series"
   ]
  }
 ],
 "metadata": {
  "kernelspec": {
   "display_name": "Python 3 (ipykernel)",
   "language": "python",
   "name": "python3"
  },
  "language_info": {
   "codemirror_mode": {
    "name": "ipython",
    "version": 3
   },
   "file_extension": ".py",
   "mimetype": "text/x-python",
   "name": "python",
   "nbconvert_exporter": "python",
   "pygments_lexer": "ipython3",
   "version": "3.9.7"
  }
 },
 "nbformat": 4,
 "nbformat_minor": 5
}
